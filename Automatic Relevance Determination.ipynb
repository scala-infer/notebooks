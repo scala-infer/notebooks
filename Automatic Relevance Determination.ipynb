{
 "cells": [
  {
   "cell_type": "markdown",
   "metadata": {},
   "source": [
    "# Automatic Relevance Determination\n",
    "The bayesian approach to feature selection is to use Automatic Relevance Determination.  Rather than specifying the prior parameters up-front, these can be optimized based on the observed data.  When the amount of data is small relative to the number of features, this technique effectively prunes features without explanatory power from the model.\n",
    "\n",
    "The idea behind ARD/Empirical Bayes is to implement Occam's Razor by maximizing the *marginal likelihood* - AKA the *evidence*.  The evidence represents the probability that the dataset is observed, given a model.  A model in this case is determined by particular values of parameters for the prior.  Maximization therefore corresponds to finding the optimal values of these hyperparameters.\n",
    "\n",
    "Variational inference corresponds to optimization of the *Evidence Lower BOund*.  The function that is optimized represents a lower bound on the evidence.  The hope is that when this function is optimized, the actual evidence is optimized as well.  We'll take the pragmatic approach by assuming that this is indeed the case.\n",
    "\n",
    "In this notebook, we explore what happens when we have two parameters.  One relevant, one irrelevant.\n",
    "Each parameter gets a hyperparameter in the form of a standard deviation for its prior."
   ]
  },
  {
   "cell_type": "code",
   "execution_count": 1,
   "metadata": {},
   "outputs": [],
   "source": [
    "interp.repositories() ++= Seq(\n",
    "    coursier.MavenRepository(\"https://dl.bintray.com/scala-infer/maven\")\n",
    ")"
   ]
  },
  {
   "cell_type": "code",
   "execution_count": 2,
   "metadata": {
    "collapsed": true
   },
   "outputs": [
    {
     "data": {
      "text/plain": [
       "\u001b[32mimport \u001b[39m\u001b[36m$ivy.$                             \n",
       "\u001b[39m\n",
       "\u001b[32mimport \u001b[39m\u001b[36m$ivy.$                                    \u001b[39m"
      ]
     },
     "execution_count": 2,
     "metadata": {},
     "output_type": "execute_result"
    }
   ],
   "source": [
    "import $ivy.`scala-infer::scala-infer:0.3`\n",
    "import $ivy.`org.jupyter-scala::kernel-api:0.4.1`"
   ]
  },
  {
   "cell_type": "code",
   "execution_count": 3,
   "metadata": {
    "collapsed": true
   },
   "outputs": [
    {
     "data": {
      "text/plain": [
       "\u001b[32mimport \u001b[39m\u001b[36mscappla._\n",
       "\u001b[39m\n",
       "\u001b[32mimport \u001b[39m\u001b[36mscappla.Functions._\n",
       "\u001b[39m\n",
       "\u001b[32mimport \u001b[39m\u001b[36mscappla.distributions._\n",
       "\u001b[39m\n",
       "\u001b[32mimport \u001b[39m\u001b[36mscappla.guides._\n",
       "\u001b[39m\n",
       "\u001b[32mimport \u001b[39m\u001b[36mscappla.optimization._\n",
       "\u001b[39m\n",
       "\u001b[32mimport \u001b[39m\u001b[36mscappla.tensor.Tensor._\n",
       "\u001b[39m\n",
       "\u001b[32mimport \u001b[39m\u001b[36mscappla.tensor._\u001b[39m"
      ]
     },
     "execution_count": 3,
     "metadata": {},
     "output_type": "execute_result"
    }
   ],
   "source": [
    "import scappla._\n",
    "import scappla.Functions._\n",
    "import scappla.distributions._\n",
    "import scappla.guides._\n",
    "import scappla.optimization._\n",
    "import scappla.tensor.Tensor._\n",
    "import scappla.tensor._"
   ]
  },
  {
   "cell_type": "code",
   "execution_count": 4,
   "metadata": {
    "collapsed": true
   },
   "outputs": [
    {
     "data": {
      "text/plain": [
       "\u001b[32mimport \u001b[39m\u001b[36mscala.util.Random\u001b[39m"
      ]
     },
     "execution_count": 4,
     "metadata": {},
     "output_type": "execute_result"
    }
   ],
   "source": [
    "import scala.util.Random"
   ]
  },
  {
   "cell_type": "code",
   "execution_count": 5,
   "metadata": {
    "collapsed": true
   },
   "outputs": [
    {
     "data": {
      "text/plain": [
       "defined \u001b[32mclass\u001b[39m \u001b[36mRecord\u001b[39m\n",
       "defined \u001b[32mclass\u001b[39m \u001b[36mBatch\u001b[39m\n",
       "\u001b[36mbatch\u001b[39m: \u001b[32mBatch\u001b[39m = \u001b[33mBatch\u001b[39m(\u001b[32m1000\u001b[39m)\n",
       "\u001b[36ma_vals\u001b[39m: \u001b[32mValue\u001b[39m[\u001b[32mArrayTensor\u001b[39m, \u001b[32mBatch\u001b[39m] = scappla.Constant@12f3f093\n",
       "\u001b[36mb_vals\u001b[39m: \u001b[32mValue\u001b[39m[\u001b[32mArrayTensor\u001b[39m, \u001b[32mBatch\u001b[39m] = scappla.Constant@31e80b51\n",
       "\u001b[36my_vals\u001b[39m: \u001b[32mValue\u001b[39m[\u001b[32mArrayTensor\u001b[39m, \u001b[32mBatch\u001b[39m] = scappla.Constant@5f6ae152"
      ]
     },
     "execution_count": 5,
     "metadata": {},
     "output_type": "execute_result"
    }
   ],
   "source": [
    "case class Record(a: Float, b: Float, y: Float)\n",
    "\n",
    "// Tensor shape - let's make it typed!\n",
    "case class Batch(size: Int) extends Dim[Batch]\n",
    "val batch = Batch(1000)\n",
    "\n",
    "val (a_vals, b_vals, y_vals)= {{\n",
    "    val a_weight = 1.0\n",
    "    val b_weight = 0.0\n",
    "    val noise = 0.5\n",
    "    \n",
    "    val data = for { _ <- 0 until batch.size } yield {\n",
    "        val a = Random.nextGaussian()\n",
    "        val b = Random.nextGaussian()\n",
    "        val y = a_weight * a + noise\n",
    "        Record(a.toFloat, b.toFloat, y.toFloat)\n",
    "    }\n",
    "\n",
    "    (\n",
    "        Value(ArrayTensor(batch.sizes, data.map { _.a }.toArray), batch),\n",
    "        Value(ArrayTensor(batch.sizes, data.map { _.b }.toArray), batch),\n",
    "        Value(ArrayTensor(batch.sizes, data.map { _.y }.toArray), batch)\n",
    "    )\n",
    "}}\n"
   ]
  },
  {
   "cell_type": "code",
   "execution_count": 6,
   "metadata": {
    "collapsed": true
   },
   "outputs": [
    {
     "data": {
      "text/plain": [
       "\u001b[36ma_prior_s\u001b[39m: \u001b[32mParam\u001b[39m[\u001b[32mDouble\u001b[39m, \u001b[32mUnit\u001b[39m] = scappla.Param@7e13f371\n",
       "\u001b[36mb_prior_s\u001b[39m: \u001b[32mParam\u001b[39m[\u001b[32mDouble\u001b[39m, \u001b[32mUnit\u001b[39m] = scappla.Param@314da4f9\n",
       "\u001b[36ma_post_mu\u001b[39m: \u001b[32mParam\u001b[39m[\u001b[32mDouble\u001b[39m, \u001b[32mUnit\u001b[39m] = scappla.Param@33764907\n",
       "\u001b[36ma_post_s\u001b[39m: \u001b[32mParam\u001b[39m[\u001b[32mDouble\u001b[39m, \u001b[32mUnit\u001b[39m] = scappla.Param@3a272583\n",
       "\u001b[36ma_guide\u001b[39m: \u001b[32mReparamGuide\u001b[39m[\u001b[32mDouble\u001b[39m, \u001b[32mUnit\u001b[39m] = \u001b[33mReparamGuide\u001b[39m(\n",
       "  \u001b[33mNormal\u001b[39m(scappla.Param@33764907, \u001b[33mApply1\u001b[39m(scappla.Param@3a272583, <function1>))\n",
       ")\n",
       "\u001b[36mb_post_mu\u001b[39m: \u001b[32mParam\u001b[39m[\u001b[32mDouble\u001b[39m, \u001b[32mUnit\u001b[39m] = scappla.Param@5cbb302d\n",
       "\u001b[36mb_post_s\u001b[39m: \u001b[32mParam\u001b[39m[\u001b[32mDouble\u001b[39m, \u001b[32mUnit\u001b[39m] = scappla.Param@5d9b0110\n",
       "\u001b[36mb_guide\u001b[39m: \u001b[32mReparamGuide\u001b[39m[\u001b[32mDouble\u001b[39m, \u001b[32mUnit\u001b[39m] = \u001b[33mReparamGuide\u001b[39m(\n",
       "  \u001b[33mNormal\u001b[39m(scappla.Param@5cbb302d, \u001b[33mApply1\u001b[39m(scappla.Param@5d9b0110, <function1>))\n",
       ")\n",
       "\u001b[36mnoise_mu\u001b[39m: \u001b[32mParam\u001b[39m[\u001b[32mDouble\u001b[39m, \u001b[32mUnit\u001b[39m] = scappla.Param@33f65cad\n",
       "\u001b[36mnoise_s\u001b[39m: \u001b[32mParam\u001b[39m[\u001b[32mDouble\u001b[39m, \u001b[32mUnit\u001b[39m] = scappla.Param@58927bd0\n",
       "\u001b[36mnoise_guide\u001b[39m: \u001b[32mReparamGuide\u001b[39m[\u001b[32mDouble\u001b[39m, \u001b[32mUnit\u001b[39m] = \u001b[33mReparamGuide\u001b[39m(\n",
       "  \u001b[33mNormal\u001b[39m(scappla.Param@33f65cad, \u001b[33mApply1\u001b[39m(scappla.Param@58927bd0, <function1>))\n",
       ")\n",
       "\u001b[36mmodel\u001b[39m: \u001b[32mModel\u001b[39m[\u001b[32mUnit\u001b[39m] = ammonite.$sess.cmd5$Helper$$anon$1@67449597"
      ]
     },
     "execution_count": 6,
     "metadata": {},
     "output_type": "execute_result"
    }
   ],
   "source": [
    "val a_prior_s = Param(0.0)\n",
    "val b_prior_s = Param(0.0)\n",
    "\n",
    "val a_post_mu = Param(0.0)\n",
    "val a_post_s = Param(0.0)\n",
    "val a_guide = ReparamGuide(Normal(a_post_mu, exp(a_post_s)))\n",
    "\n",
    "val b_post_mu = Param(0.0)\n",
    "val b_post_s = Param(0.0)\n",
    "val b_guide = ReparamGuide(Normal(b_post_mu, exp(b_post_s)))\n",
    "\n",
    "val noise_mu = Param(0.0)\n",
    "val noise_s = Param(0.0)\n",
    "val noise_guide = ReparamGuide(Normal(noise_mu, exp(noise_s)))\n",
    "\n",
    "val model = infer {\n",
    "    val a_weight = sample(Normal(0.0, exp(a_prior_s)), a_guide)\n",
    "    val b_weight = sample(Normal(0.0, exp(b_prior_s)), b_guide)\n",
    "    val noise = sample(Normal(0.0, 1.0), noise_guide)\n",
    "    \n",
    "    observe(Normal(\n",
    "        broadcast(a_weight, batch) * a_vals\n",
    "        + broadcast(b_weight, batch) * b_vals,\n",
    "        broadcast[Batch, ArrayTensor](exp(noise), batch)\n",
    "    ), y_vals)\n",
    "}"
   ]
  },
  {
   "cell_type": "code",
   "execution_count": 7,
   "metadata": {
    "collapsed": true
   },
   "outputs": [
    {
     "data": {
      "text/plain": [
       "\u001b[36mopt\u001b[39m: \u001b[32mAdam\u001b[39m = scappla.optimization.Adam@7bc3e74f\n",
       "\u001b[36minterpreter\u001b[39m: \u001b[32mOptimizingInterpreter\u001b[39m = scappla.OptimizingInterpreter@115f4b3"
      ]
     },
     "execution_count": 7,
     "metadata": {},
     "output_type": "execute_result"
    }
   ],
   "source": [
    "val opt = new Adam(0.1)\n",
    "val interpreter = new OptimizingInterpreter(opt)"
   ]
  },
  {
   "cell_type": "code",
   "execution_count": 15,
   "metadata": {},
   "outputs": [],
   "source": [
    "for { _ <- 0 until 10000 } {\n",
    "    interpreter.reset()\n",
    "    model.sample(interpreter)\n",
    "}"
   ]
  },
  {
   "cell_type": "code",
   "execution_count": 17,
   "metadata": {
    "collapsed": true
   },
   "outputs": [
    {
     "data": {
      "text/plain": [
       "\u001b[36mparams\u001b[39m: \u001b[32mSeq\u001b[39m[(\u001b[32mString\u001b[39m, \u001b[32mExpr\u001b[39m[\u001b[32mDouble\u001b[39m, \u001b[32mUnit\u001b[39m])] = \u001b[33mList\u001b[39m(\n",
       "  (\u001b[32m\"a_prior\"\u001b[39m, \u001b[33mApply1\u001b[39m(scappla.Param@7e13f371, <function1>)),\n",
       "  (\u001b[32m\"b_prior\"\u001b[39m, \u001b[33mApply1\u001b[39m(scappla.Param@314da4f9, <function1>)),\n",
       "  (\u001b[32m\"a_post_mu\"\u001b[39m, scappla.Param@33764907),\n",
       "  (\u001b[32m\"a_post_s\"\u001b[39m, \u001b[33mApply1\u001b[39m(scappla.Param@3a272583, <function1>)),\n",
       "  (\u001b[32m\"b_post_mu\"\u001b[39m, scappla.Param@5cbb302d),\n",
       "  (\u001b[32m\"b_post_s\"\u001b[39m, \u001b[33mApply1\u001b[39m(scappla.Param@5d9b0110, <function1>)),\n",
       "  (\u001b[32m\"noise_mu\"\u001b[39m, \u001b[33mApply1\u001b[39m(scappla.Param@33f65cad, <function1>)),\n",
       "  (\u001b[32m\"noise_s\"\u001b[39m, \u001b[33mApply1\u001b[39m(scappla.Param@58927bd0, <function1>))\n",
       ")"
      ]
     },
     "execution_count": 17,
     "metadata": {},
     "output_type": "execute_result"
    }
   ],
   "source": [
    "val params = Seq(\n",
    "    \"a_prior\" -> exp(a_prior_s),\n",
    "    \"b_prior\" -> exp(b_prior_s),\n",
    "    \"a_post_mu\" -> a_post_mu,\n",
    "    \"a_post_s\" -> exp(a_post_s),\n",
    "    \"b_post_mu\" -> b_post_mu,\n",
    "    \"b_post_s\" -> exp(b_post_s),\n",
    "    \"noise_mu\" -> exp(noise_mu),\n",
    "    \"noise_s\" -> exp(noise_s)\n",
    ")"
   ]
  },
  {
   "cell_type": "code",
   "execution_count": 18,
   "metadata": {},
   "outputs": [
    {
     "name": "stdout",
     "output_type": "stream",
     "text": [
      "a_prior : 0.9748566249159144\n",
      "b_prior : 0.016316337237029584\n",
      "a_post_mu : 0.9810327294740097\n",
      "a_post_s : 0.015555917424498474\n",
      "b_post_mu : 0.010369466775204813\n",
      "b_post_s : 0.010296939008060712\n",
      "noise_mu : 0.5004524053050853\n",
      "noise_s : 0.022398470675536467\n"
     ]
    }
   ],
   "source": [
    "for { (name, param) <- params } {\n",
    "    println(s\"$name : ${interpreter.eval(param).v}\")\n",
    "}"
   ]
  }
 ],
 "metadata": {
  "kernelspec": {
   "display_name": "Scala",
   "language": "scala",
   "name": "scala"
  },
  "language_info": {
   "codemirror_mode": "text/x-scala",
   "file_extension": ".scala",
   "mimetype": "text/x-scala",
   "name": "scala",
   "nbconvert_exporter": "script",
   "version": "2.12.8"
  }
 },
 "nbformat": 4,
 "nbformat_minor": 2
}
