{
 "cells": [
  {
   "cell_type": "markdown",
   "metadata": {},
   "source": [
    "# Demo of (reverse) auto-diff"
   ]
  },
  {
   "cell_type": "code",
   "execution_count": 1,
   "metadata": {},
   "outputs": [],
   "source": [
    "interp.repositories() ++= Seq(\n",
    "    coursier.MavenRepository(\"https://dl.bintray.com/scala-infer/maven\")\n",
    ")"
   ]
  },
  {
   "cell_type": "code",
   "execution_count": 2,
   "metadata": {
    "collapsed": true
   },
   "outputs": [
    {
     "data": {
      "text/plain": [
       "\u001b[32mimport \u001b[39m\u001b[36m$ivy.$                             \u001b[39m"
      ]
     },
     "execution_count": 2,
     "metadata": {},
     "output_type": "execute_result"
    }
   ],
   "source": [
    "import $ivy.`scala-infer::scala-infer:0.3`"
   ]
  },
  {
   "cell_type": "code",
   "execution_count": 4,
   "metadata": {},
   "outputs": [
    {
     "data": {
      "text/plain": [
       "\u001b[32mimport \u001b[39m\u001b[36mscappla._\n",
       "\u001b[39m\n",
       "\u001b[32mimport \u001b[39m\u001b[36mscappla.Functions._\n",
       "\n",
       "\u001b[39m\n",
       "defined \u001b[32mclass\u001b[39m \u001b[36mVar\u001b[39m"
      ]
     },
     "execution_count": 4,
     "metadata": {},
     "output_type": "execute_result"
    }
   ],
   "source": [
    "import scappla._\n",
    "import scappla.Functions._\n",
    "\n",
    "case class Var(name: String, v: Double = 0.0) extends AbstractReal {\n",
    "    \n",
    "    override def dv(d: Double): Unit = {\n",
    "        println(s\"grad $name = $d\")\n",
    "    }\n",
    "\n",
    "    override def toString: String = s\"$name\"\n",
    "}\n"
   ]
  },
  {
   "cell_type": "markdown",
   "metadata": {},
   "source": [
    "## Plus\n",
    "The plus operator back-propages the gradient back to both its inputs."
   ]
  },
  {
   "cell_type": "code",
   "execution_count": 5,
   "metadata": {},
   "outputs": [
    {
     "data": {
      "text/plain": [
       "\u001b[36mx\u001b[39m: \u001b[32mVar\u001b[39m = \u001b[33mVar\u001b[39m(\u001b[32m\"x\"\u001b[39m, \u001b[32m2.0\u001b[39m)\n",
       "\u001b[36my\u001b[39m: \u001b[32mVar\u001b[39m = \u001b[33mVar\u001b[39m(\u001b[32m\"y\"\u001b[39m, \u001b[32m3.0\u001b[39m)\n",
       "\u001b[36mz\u001b[39m: \u001b[32mValue\u001b[39m[\u001b[32mDouble\u001b[39m, \u001b[32mUnit\u001b[39m] = \u001b[33mVPlus\u001b[39m(\u001b[33mVar\u001b[39m(\u001b[32m\"x\"\u001b[39m, \u001b[32m2.0\u001b[39m), \u001b[33mVar\u001b[39m(\u001b[32m\"y\"\u001b[39m, \u001b[32m3.0\u001b[39m))\n",
       "\u001b[36mres4_3\u001b[39m: \u001b[32mDouble\u001b[39m = \u001b[32m5.0\u001b[39m"
      ]
     },
     "execution_count": 5,
     "metadata": {},
     "output_type": "execute_result"
    }
   ],
   "source": [
    "val x = Var(\"x\", 2.0)\n",
    "val y = Var(\"y\", 3.0)\n",
    "val z = x + y\n",
    "z.v"
   ]
  },
  {
   "cell_type": "code",
   "execution_count": 6,
   "metadata": {},
   "outputs": [
    {
     "name": "stdout",
     "output_type": "stream",
     "text": [
      "grad x = 1.0\n",
      "grad y = 1.0\n"
     ]
    }
   ],
   "source": [
    "z.dv(1.0)"
   ]
  },
  {
   "cell_type": "markdown",
   "metadata": {},
   "source": [
    "## Derivative of function\n",
    "The derivative of the `log(x)` function is `1/x`.\n",
    "The value of `log(2.0)` is `0.693...`"
   ]
  },
  {
   "cell_type": "code",
   "execution_count": 7,
   "metadata": {},
   "outputs": [
    {
     "data": {
      "text/plain": [
       "\u001b[36mw\u001b[39m: \u001b[32mValue\u001b[39m[\u001b[32mDouble\u001b[39m, \u001b[32mUnit\u001b[39m] = \u001b[33mVLog\u001b[39m(\u001b[33mVar\u001b[39m(\u001b[32m\"x\"\u001b[39m, \u001b[32m2.0\u001b[39m))\n",
       "\u001b[36mres6_1\u001b[39m: \u001b[32mDouble\u001b[39m = \u001b[32m0.6931471805599453\u001b[39m"
      ]
     },
     "execution_count": 7,
     "metadata": {},
     "output_type": "execute_result"
    }
   ],
   "source": [
    "val w = log(x)\n",
    "w.v"
   ]
  },
  {
   "cell_type": "markdown",
   "metadata": {},
   "source": [
    "back-propagating `1.0` should give the gradient of `dlog(x)/dx = 0.5` "
   ]
  },
  {
   "cell_type": "code",
   "execution_count": 8,
   "metadata": {},
   "outputs": [
    {
     "name": "stdout",
     "output_type": "stream",
     "text": [
      "grad x = 0.5\n"
     ]
    }
   ],
   "source": [
    "w.dv(1.0)"
   ]
  },
  {
   "cell_type": "markdown",
   "metadata": {},
   "source": [
    "## Composing functions\n",
    "the derivative of `log(sigmoid(x))` is `sigmoid'(x) / sigmoid(x)`.  With the derivative of the `sigmoid` being equal to `sigmoid(x) sigmoid(-x)`, the result at `x = 2` should be `1 / (1 + exp(2)) = 0.119...`."
   ]
  },
  {
   "cell_type": "code",
   "execution_count": 9,
   "metadata": {},
   "outputs": [
    {
     "data": {
      "text/plain": [
       "\u001b[36mu\u001b[39m: \u001b[32mValue\u001b[39m[\u001b[32mDouble\u001b[39m, \u001b[32mUnit\u001b[39m] = \u001b[33mVLog\u001b[39m(\u001b[33mVSigmoid\u001b[39m(\u001b[33mVar\u001b[39m(\u001b[32m\"x\"\u001b[39m, \u001b[32m2.0\u001b[39m)))\n",
       "\u001b[36mres8_1\u001b[39m: \u001b[32mDouble\u001b[39m = \u001b[32m-0.12692801104297263\u001b[39m"
      ]
     },
     "execution_count": 9,
     "metadata": {},
     "output_type": "execute_result"
    }
   ],
   "source": [
    "val u = log(sigmoid(x))\n",
    "u.v"
   ]
  },
  {
   "cell_type": "code",
   "execution_count": 10,
   "metadata": {},
   "outputs": [
    {
     "name": "stdout",
     "output_type": "stream",
     "text": [
      "grad x = 0.11920292202211755\n"
     ]
    }
   ],
   "source": [
    "u.dv(1.0)"
   ]
  }
 ],
 "metadata": {
  "kernelspec": {
   "display_name": "Scala",
   "language": "scala",
   "name": "scala"
  },
  "language_info": {
   "codemirror_mode": "text/x-scala",
   "file_extension": ".scala",
   "mimetype": "text/x-scala",
   "name": "scala",
   "nbconvert_exporter": "script",
   "version": "2.12.8"
  }
 },
 "nbformat": 4,
 "nbformat_minor": 2
}
