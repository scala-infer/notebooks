{
 "cells": [
  {
   "cell_type": "markdown",
   "metadata": {},
   "source": [
    "# Demo of (reverse) auto-diff"
   ]
  },
  {
   "cell_type": "code",
   "execution_count": 9,
   "metadata": {
    "collapsed": true
   },
   "outputs": [
    {
     "name": "stderr",
     "output_type": "stream",
     "text": [
      "Downloading https://repo1.maven.org/maven2/org/bytedeco/javacpp-presets/mkl-platform/2019.0-1.4.3/mkl-platform-2019.0-1.4.3-sources.jar\n",
      "Downloading https://repo1.maven.org/maven2/org/bytedeco/javacpp-presets/mkl-platform/2019.0-1.4.3/mkl-platform-2019.0-1.4.3-sources.jar.sha1\n",
      "Downloading https://repo1.maven.org/maven2/org/bytedeco/javacpp-presets/mkl-dnn-platform/0.16-1.4.3/mkl-dnn-platform-0.16-1.4.3-sources.jar\n",
      "Downloading https://repo1.maven.org/maven2/org/bytedeco/javacpp-presets/mkl-dnn-platform/0.16-1.4.3/mkl-dnn-platform-0.16-1.4.3-sources.jar.sha1\n",
      "Downloading https://repo1.maven.org/maven2/org/nd4j/nd4j-backend-impls/1.0.0-beta3/nd4j-backend-impls-1.0.0-beta3-sources.jar\n",
      "Downloading https://repo1.maven.org/maven2/org/nd4j/nd4j-backend-impls/1.0.0-beta3/nd4j-backend-impls-1.0.0-beta3-sources.jar.sha1\n",
      "Downloading https://repo1.maven.org/maven2/org/bytedeco/javacpp-presets/openblas-platform/0.3.3-1.4.3/openblas-platform-0.3.3-1.4.3-sources.jar\n",
      "Downloading https://repo1.maven.org/maven2/org/bytedeco/javacpp-presets/openblas-platform/0.3.3-1.4.3/openblas-platform-0.3.3-1.4.3-sources.jar.sha1\n"
     ]
    },
    {
     "data": {
      "text/plain": [
       "\u001b[32mimport \u001b[39m\u001b[36m$ivy.$                            \u001b[39m"
      ]
     },
     "execution_count": 9,
     "metadata": {},
     "output_type": "execute_result"
    }
   ],
   "source": [
    "interp.repositories() ++= Seq(\n",
    "    coursier.MavenRepository(\"https://dl.bintray.com/fvlankvelt/maven\")\n",
    ")\n",
    "import $ivy.`fvlankvelt::scala-infer:0.1`"
   ]
  },
  {
   "cell_type": "code",
   "execution_count": 10,
   "metadata": {},
   "outputs": [
    {
     "data": {
      "text/plain": [
       "\u001b[32mimport \u001b[39m\u001b[36mscappla._\n",
       "\u001b[39m\n",
       "\u001b[32mimport \u001b[39m\u001b[36mscappla.Real._\n",
       "\u001b[39m\n",
       "\u001b[32mimport \u001b[39m\u001b[36mscappla.Functions._\n",
       "\n",
       "\u001b[39m\n",
       "defined \u001b[32mclass\u001b[39m \u001b[36mParam\u001b[39m"
      ]
     },
     "execution_count": 10,
     "metadata": {},
     "output_type": "execute_result"
    }
   ],
   "source": [
    "import scappla._\n",
    "import scappla.Real._\n",
    "import scappla.Functions._\n",
    "\n",
    "case class Param(name: String, v: Double = 0.0) extends Real {\n",
    "    \n",
    "    override def dv(d: Double): Unit = {\n",
    "        println(s\"grad $name = $d\")\n",
    "    }\n",
    "\n",
    "    override def toString: String = s\"$name\"\n",
    "}\n"
   ]
  },
  {
   "cell_type": "markdown",
   "metadata": {},
   "source": [
    "## Plus\n",
    "The plus operator back-propages the gradient back to both its inputs."
   ]
  },
  {
   "cell_type": "code",
   "execution_count": 11,
   "metadata": {},
   "outputs": [
    {
     "data": {
      "text/plain": [
       "\u001b[36mx\u001b[39m: \u001b[32mParam\u001b[39m = \u001b[33mParam\u001b[39m(\u001b[32m\"x\"\u001b[39m, \u001b[32m2.0\u001b[39m)\n",
       "\u001b[36my\u001b[39m: \u001b[32mParam\u001b[39m = \u001b[33mParam\u001b[39m(\u001b[32m\"y\"\u001b[39m, \u001b[32m3.0\u001b[39m)\n",
       "\u001b[36mz\u001b[39m: \u001b[32mExpr\u001b[39m[\u001b[32mDouble\u001b[39m] = \u001b[33mDAdd\u001b[39m(\u001b[33mParam\u001b[39m(\u001b[32m\"x\"\u001b[39m, \u001b[32m2.0\u001b[39m), \u001b[33mParam\u001b[39m(\u001b[32m\"y\"\u001b[39m, \u001b[32m3.0\u001b[39m))\n",
       "\u001b[36mres10_3\u001b[39m: \u001b[32mDouble\u001b[39m = \u001b[32m5.0\u001b[39m"
      ]
     },
     "execution_count": 11,
     "metadata": {},
     "output_type": "execute_result"
    }
   ],
   "source": [
    "val x = Param(\"x\", 2.0)\n",
    "val y = Param(\"y\", 3.0)\n",
    "val z = x + y\n",
    "z.v"
   ]
  },
  {
   "cell_type": "code",
   "execution_count": 12,
   "metadata": {},
   "outputs": [
    {
     "name": "stdout",
     "output_type": "stream",
     "text": [
      "grad x = 1.0\n",
      "grad y = 1.0\n"
     ]
    }
   ],
   "source": [
    "z.dv(1.0)"
   ]
  },
  {
   "cell_type": "markdown",
   "metadata": {},
   "source": [
    "## Derivative of function\n",
    "The derivative of the `log(x)` function is `1/x`.\n",
    "The value of `log(2.0)` is `0.693...`"
   ]
  },
  {
   "cell_type": "code",
   "execution_count": 13,
   "metadata": {},
   "outputs": [
    {
     "data": {
      "text/plain": [
       "\u001b[36mw\u001b[39m: \u001b[32mReal\u001b[39m = Log(x)\n",
       "\u001b[36mres12_1\u001b[39m: \u001b[32mDouble\u001b[39m = \u001b[32m0.6931471805599453\u001b[39m"
      ]
     },
     "execution_count": 13,
     "metadata": {},
     "output_type": "execute_result"
    }
   ],
   "source": [
    "val w = log(x)\n",
    "w.v"
   ]
  },
  {
   "cell_type": "markdown",
   "metadata": {},
   "source": [
    "back-propagating `1.0` should give the gradient of `dlog(x)/dx = 0.5` "
   ]
  },
  {
   "cell_type": "code",
   "execution_count": 14,
   "metadata": {},
   "outputs": [
    {
     "name": "stdout",
     "output_type": "stream",
     "text": [
      "grad x = 0.5\n"
     ]
    }
   ],
   "source": [
    "w.dv(1.0)"
   ]
  },
  {
   "cell_type": "markdown",
   "metadata": {},
   "source": [
    "## Composing functions\n",
    "the derivative of `log(sigmoid(x))` is `sigmoid'(x) / sigmoid(x)`.  With the derivative of the `sigmoid` being equal to `sigmoid(x) sigmoid(-x)`, the result at `x = 2` should be `1 / (1 + exp(2)) = 0.119...`."
   ]
  },
  {
   "cell_type": "code",
   "execution_count": 15,
   "metadata": {},
   "outputs": [
    {
     "data": {
      "text/plain": [
       "\u001b[36mu\u001b[39m: \u001b[32mReal\u001b[39m = Log(Const(1.0000) / (Exp(-x) + Const(1.0000)))\n",
       "\u001b[36mres14_1\u001b[39m: \u001b[32mDouble\u001b[39m = \u001b[32m-0.12692801104297263\u001b[39m"
      ]
     },
     "execution_count": 15,
     "metadata": {},
     "output_type": "execute_result"
    }
   ],
   "source": [
    "val u = log(sigmoid(x))\n",
    "u.v"
   ]
  },
  {
   "cell_type": "code",
   "execution_count": 16,
   "metadata": {},
   "outputs": [
    {
     "name": "stdout",
     "output_type": "stream",
     "text": [
      "grad x = 0.11920292202211755\n"
     ]
    }
   ],
   "source": [
    "u.dv(1.0)"
   ]
  }
 ],
 "metadata": {
  "kernelspec": {
   "display_name": "Scala",
   "language": "scala",
   "name": "scala"
  },
  "language_info": {
   "codemirror_mode": "text/x-scala",
   "file_extension": ".scala",
   "mimetype": "text/x-scala",
   "name": "scala",
   "nbconvert_exporter": "script",
   "version": "2.12.8"
  }
 },
 "nbformat": 4,
 "nbformat_minor": 2
}
